{
 "cells": [
  {
   "cell_type": "code",
   "execution_count": 1,
   "metadata": {},
   "outputs": [],
   "source": [
    "import seaborn as sns\n",
    "import pandas as pd\n",
    "import matplotlib.pyplot as plt\n",
    "import numpy as np\n",
    "%matplotlib inline"
   ]
  },
  {
   "cell_type": "code",
   "execution_count": 56,
   "metadata": {},
   "outputs": [],
   "source": [
    "movies = pd.read_csv('./blockbusters.csv')"
   ]
  },
  {
   "cell_type": "code",
   "execution_count": 58,
   "metadata": {},
   "outputs": [],
   "source": [
    "# Delete unessecary columns\n",
    "movies.drop('Genre_2',axis=1,inplace=True)\n",
    "movies.drop('Genre_3',axis=1,inplace=True)"
   ]
  },
  {
   "cell_type": "code",
   "execution_count": 59,
   "metadata": {},
   "outputs": [
    {
     "data": {
      "text/html": [
       "<div>\n",
       "<style scoped>\n",
       "    .dataframe tbody tr th:only-of-type {\n",
       "        vertical-align: middle;\n",
       "    }\n",
       "\n",
       "    .dataframe tbody tr th {\n",
       "        vertical-align: top;\n",
       "    }\n",
       "\n",
       "    .dataframe thead th {\n",
       "        text-align: right;\n",
       "    }\n",
       "</style>\n",
       "<table border=\"1\" class=\"dataframe\">\n",
       "  <thead>\n",
       "    <tr style=\"text-align: right;\">\n",
       "      <th></th>\n",
       "      <th>Main_Genre</th>\n",
       "      <th>imdb_rating</th>\n",
       "      <th>length</th>\n",
       "      <th>rank_in_year</th>\n",
       "      <th>rating</th>\n",
       "      <th>studio</th>\n",
       "      <th>title</th>\n",
       "      <th>worldwide_gross</th>\n",
       "      <th>year</th>\n",
       "    </tr>\n",
       "  </thead>\n",
       "  <tbody>\n",
       "    <tr>\n",
       "      <td>432</td>\n",
       "      <td>Thriller</td>\n",
       "      <td>7.1</td>\n",
       "      <td>113</td>\n",
       "      <td>6</td>\n",
       "      <td>G</td>\n",
       "      <td>Metro-Goldwyn-Mayer</td>\n",
       "      <td>The Return of the Pink Panther</td>\n",
       "      <td>$41,833,347.00</td>\n",
       "      <td>1975</td>\n",
       "    </tr>\n",
       "    <tr>\n",
       "      <td>433</td>\n",
       "      <td>Music</td>\n",
       "      <td>6.4</td>\n",
       "      <td>136</td>\n",
       "      <td>7</td>\n",
       "      <td>PG</td>\n",
       "      <td>Columbia Pictures</td>\n",
       "      <td>Funny Lady</td>\n",
       "      <td>$39,000,000.00</td>\n",
       "      <td>1975</td>\n",
       "    </tr>\n",
       "    <tr>\n",
       "      <td>434</td>\n",
       "      <td>Family</td>\n",
       "      <td>6.2</td>\n",
       "      <td>100</td>\n",
       "      <td>8</td>\n",
       "      <td>G</td>\n",
       "      <td>Walt Disney Pictures</td>\n",
       "      <td>The Apple Dumpling Gang</td>\n",
       "      <td>$36,853,000.00</td>\n",
       "      <td>1975</td>\n",
       "    </tr>\n",
       "    <tr>\n",
       "      <td>435</td>\n",
       "      <td>Drama</td>\n",
       "      <td>6.0</td>\n",
       "      <td>88</td>\n",
       "      <td>9</td>\n",
       "      <td>PG</td>\n",
       "      <td>Columbia Pictures</td>\n",
       "      <td>Aloha, Bobby and Rose</td>\n",
       "      <td>$35,000,000.00</td>\n",
       "      <td>1975</td>\n",
       "    </tr>\n",
       "    <tr>\n",
       "      <td>436</td>\n",
       "      <td>Drama</td>\n",
       "      <td>6.4</td>\n",
       "      <td>103</td>\n",
       "      <td>10</td>\n",
       "      <td>PG</td>\n",
       "      <td>Universal Pictures</td>\n",
       "      <td>The Other Side of the Mountain</td>\n",
       "      <td>$34,673,100.00</td>\n",
       "      <td>1975</td>\n",
       "    </tr>\n",
       "  </tbody>\n",
       "</table>\n",
       "</div>"
      ],
      "text/plain": [
       "    Main_Genre  imdb_rating  length  rank_in_year rating  \\\n",
       "432   Thriller          7.1     113             6      G   \n",
       "433      Music          6.4     136             7     PG   \n",
       "434     Family          6.2     100             8      G   \n",
       "435      Drama          6.0      88             9     PG   \n",
       "436      Drama          6.4     103            10     PG   \n",
       "\n",
       "                   studio                           title  worldwide_gross  \\\n",
       "432   Metro-Goldwyn-Mayer  The Return of the Pink Panther  $41,833,347.00    \n",
       "433     Columbia Pictures                      Funny Lady  $39,000,000.00    \n",
       "434  Walt Disney Pictures         The Apple Dumpling Gang  $36,853,000.00    \n",
       "435     Columbia Pictures           Aloha, Bobby and Rose  $35,000,000.00    \n",
       "436    Universal Pictures  The Other Side of the Mountain  $34,673,100.00    \n",
       "\n",
       "     year  \n",
       "432  1975  \n",
       "433  1975  \n",
       "434  1975  \n",
       "435  1975  \n",
       "436  1975  "
      ]
     },
     "execution_count": 59,
     "metadata": {},
     "output_type": "execute_result"
    }
   ],
   "source": [
    "movies.tail()"
   ]
  },
  {
   "cell_type": "code",
   "execution_count": 60,
   "metadata": {},
   "outputs": [],
   "source": [
    "# Convert worldwide_gross column to number.\n",
    "def gross_to_float(mov):\n",
    "    gross_str = mov['worldwide_gross'];\n",
    "#   Remove dollar sign\n",
    "    return float(gross_str[1:].replace(',',''))\n",
    "    \n",
    "    \n",
    "movies['worldwide_gross'] = movies.apply(gross_to_float,axis=1)"
   ]
  },
  {
   "cell_type": "markdown",
   "metadata": {},
   "source": [
    "### Highest grossing movie of all time"
   ]
  },
  {
   "cell_type": "code",
   "execution_count": 81,
   "metadata": {},
   "outputs": [
    {
     "name": "stdout",
     "output_type": "stream",
     "text": [
      "Title: Avatar\n",
      "Gross: $2,749,064,328.00\n"
     ]
    }
   ],
   "source": [
    "highest_grossing_movie = movies.iloc[movies['worldwide_gross'].idxmax()]\n",
    "title = highest_grossing_movie['title']\n",
    "gross = highest_grossing_movie['worldwide_gross']\n",
    "print('Title: {}\\nGross: ${:,.2f}'.format(title,gross))"
   ]
  },
  {
   "cell_type": "markdown",
   "metadata": {},
   "source": [
    "### Longest movie of all time"
   ]
  },
  {
   "cell_type": "code",
   "execution_count": 80,
   "metadata": {},
   "outputs": [
    {
     "name": "stdout",
     "output_type": "stream",
     "text": [
      "Title: The Lord of the Rings: The Return of the King\n",
      "Length: 3 hours 21 minutes\n"
     ]
    }
   ],
   "source": [
    "longest_movie = movies.iloc[movies['length'].idxmax()]\n",
    "title = longest_movie['title']\n",
    "length = int(longest_movie['length'])\n",
    "hours = int(length / 60)\n",
    "minutes = length % 60\n",
    "\n",
    "print('Title: {}\\nLength: {} hours {} minutes'.format(title,hours,minutes))"
   ]
  },
  {
   "cell_type": "markdown",
   "metadata": {},
   "source": [
    "### Highest rating all time"
   ]
  },
  {
   "cell_type": "code",
   "execution_count": 85,
   "metadata": {},
   "outputs": [
    {
     "name": "stdout",
     "output_type": "stream",
     "text": [
      "Title: The Dark Knight\n",
      "Rating: 9.0\n"
     ]
    }
   ],
   "source": [
    "highest_rating = movies.iloc[movies['imdb_rating'].idxmax()]\n",
    "title = highest_rating['title']\n",
    "rating = highest_rating['imdb_rating']\n",
    "\n",
    "print('Title: {}\\nRating: {}'.format(title,rating))"
   ]
  },
  {
   "cell_type": "markdown",
   "metadata": {},
   "source": [
    "### Studio with most appearances in the blockbuster"
   ]
  },
  {
   "cell_type": "code",
   "execution_count": 102,
   "metadata": {},
   "outputs": [
    {
     "name": "stdout",
     "output_type": "stream",
     "text": [
      "Studio: Warner Bros\n",
      "Appearances: 87 out of 437\n"
     ]
    }
   ],
   "source": [
    "studios_rank = movies['studio'].value_counts()\n",
    "studio = studios_rank.keys()[0]\n",
    "count = studios_rank[0]\n",
    "\n",
    "print('Studio: {}\\nAppearances: {} out of {}'.format(studio,count,movies.shape[0]))"
   ]
  },
  {
   "cell_type": "code",
   "execution_count": null,
   "metadata": {},
   "outputs": [],
   "source": [
    "#"
   ]
  }
 ],
 "metadata": {
  "kernelspec": {
   "display_name": "Python 3",
   "language": "python",
   "name": "python3"
  },
  "language_info": {
   "codemirror_mode": {
    "name": "ipython",
    "version": 3
   },
   "file_extension": ".py",
   "mimetype": "text/x-python",
   "name": "python",
   "nbconvert_exporter": "python",
   "pygments_lexer": "ipython3",
   "version": "3.7.4"
  }
 },
 "nbformat": 4,
 "nbformat_minor": 2
}
