{
 "cells": [
  {
   "cell_type": "code",
   "execution_count": 1,
   "metadata": {},
   "outputs": [],
   "source": [
    "import seaborn as sns\n",
    "import matplotlib.pyplot as plt\n",
    "import pandas as pd\n",
    "import numpy as np\n",
    "%matplotlib inline"
   ]
  },
  {
   "cell_type": "code",
   "execution_count": 2,
   "metadata": {},
   "outputs": [],
   "source": [
    "df = pd.read_csv('top50.csv',encoding='ISO-8859-1')"
   ]
  },
  {
   "cell_type": "code",
   "execution_count": 3,
   "metadata": {
    "scrolled": false
   },
   "outputs": [
    {
     "data": {
      "text/html": [
       "<div>\n",
       "<style scoped>\n",
       "    .dataframe tbody tr th:only-of-type {\n",
       "        vertical-align: middle;\n",
       "    }\n",
       "\n",
       "    .dataframe tbody tr th {\n",
       "        vertical-align: top;\n",
       "    }\n",
       "\n",
       "    .dataframe thead th {\n",
       "        text-align: right;\n",
       "    }\n",
       "</style>\n",
       "<table border=\"1\" class=\"dataframe\">\n",
       "  <thead>\n",
       "    <tr style=\"text-align: right;\">\n",
       "      <th></th>\n",
       "      <th>Unnamed: 0</th>\n",
       "      <th>Track.Name</th>\n",
       "      <th>Artist.Name</th>\n",
       "      <th>Genre</th>\n",
       "      <th>Beats.Per.Minute</th>\n",
       "      <th>Energy</th>\n",
       "      <th>Danceability</th>\n",
       "      <th>Loudness..dB..</th>\n",
       "      <th>Liveness</th>\n",
       "      <th>Valence.</th>\n",
       "      <th>Length.</th>\n",
       "      <th>Acousticness..</th>\n",
       "      <th>Speechiness.</th>\n",
       "      <th>Popularity</th>\n",
       "    </tr>\n",
       "  </thead>\n",
       "  <tbody>\n",
       "    <tr>\n",
       "      <td>0</td>\n",
       "      <td>1</td>\n",
       "      <td>Señorita</td>\n",
       "      <td>Shawn Mendes</td>\n",
       "      <td>canadian pop</td>\n",
       "      <td>117</td>\n",
       "      <td>55</td>\n",
       "      <td>76</td>\n",
       "      <td>-6</td>\n",
       "      <td>8</td>\n",
       "      <td>75</td>\n",
       "      <td>191</td>\n",
       "      <td>4</td>\n",
       "      <td>3</td>\n",
       "      <td>79</td>\n",
       "    </tr>\n",
       "    <tr>\n",
       "      <td>1</td>\n",
       "      <td>2</td>\n",
       "      <td>China</td>\n",
       "      <td>Anuel AA</td>\n",
       "      <td>reggaeton flow</td>\n",
       "      <td>105</td>\n",
       "      <td>81</td>\n",
       "      <td>79</td>\n",
       "      <td>-4</td>\n",
       "      <td>8</td>\n",
       "      <td>61</td>\n",
       "      <td>302</td>\n",
       "      <td>8</td>\n",
       "      <td>9</td>\n",
       "      <td>92</td>\n",
       "    </tr>\n",
       "    <tr>\n",
       "      <td>2</td>\n",
       "      <td>3</td>\n",
       "      <td>boyfriend (with Social House)</td>\n",
       "      <td>Ariana Grande</td>\n",
       "      <td>dance pop</td>\n",
       "      <td>190</td>\n",
       "      <td>80</td>\n",
       "      <td>40</td>\n",
       "      <td>-4</td>\n",
       "      <td>16</td>\n",
       "      <td>70</td>\n",
       "      <td>186</td>\n",
       "      <td>12</td>\n",
       "      <td>46</td>\n",
       "      <td>85</td>\n",
       "    </tr>\n",
       "    <tr>\n",
       "      <td>3</td>\n",
       "      <td>4</td>\n",
       "      <td>Beautiful People (feat. Khalid)</td>\n",
       "      <td>Ed Sheeran</td>\n",
       "      <td>pop</td>\n",
       "      <td>93</td>\n",
       "      <td>65</td>\n",
       "      <td>64</td>\n",
       "      <td>-8</td>\n",
       "      <td>8</td>\n",
       "      <td>55</td>\n",
       "      <td>198</td>\n",
       "      <td>12</td>\n",
       "      <td>19</td>\n",
       "      <td>86</td>\n",
       "    </tr>\n",
       "    <tr>\n",
       "      <td>4</td>\n",
       "      <td>5</td>\n",
       "      <td>Goodbyes (Feat. Young Thug)</td>\n",
       "      <td>Post Malone</td>\n",
       "      <td>dfw rap</td>\n",
       "      <td>150</td>\n",
       "      <td>65</td>\n",
       "      <td>58</td>\n",
       "      <td>-4</td>\n",
       "      <td>11</td>\n",
       "      <td>18</td>\n",
       "      <td>175</td>\n",
       "      <td>45</td>\n",
       "      <td>7</td>\n",
       "      <td>94</td>\n",
       "    </tr>\n",
       "  </tbody>\n",
       "</table>\n",
       "</div>"
      ],
      "text/plain": [
       "   Unnamed: 0                       Track.Name    Artist.Name           Genre  \\\n",
       "0           1                         Señorita   Shawn Mendes    canadian pop   \n",
       "1           2                            China       Anuel AA  reggaeton flow   \n",
       "2           3    boyfriend (with Social House)  Ariana Grande       dance pop   \n",
       "3           4  Beautiful People (feat. Khalid)     Ed Sheeran             pop   \n",
       "4           5      Goodbyes (Feat. Young Thug)    Post Malone         dfw rap   \n",
       "\n",
       "   Beats.Per.Minute  Energy  Danceability  Loudness..dB..  Liveness  Valence.  \\\n",
       "0               117      55            76              -6         8        75   \n",
       "1               105      81            79              -4         8        61   \n",
       "2               190      80            40              -4        16        70   \n",
       "3                93      65            64              -8         8        55   \n",
       "4               150      65            58              -4        11        18   \n",
       "\n",
       "   Length.  Acousticness..  Speechiness.  Popularity  \n",
       "0      191               4             3          79  \n",
       "1      302               8             9          92  \n",
       "2      186              12            46          85  \n",
       "3      198              12            19          86  \n",
       "4      175              45             7          94  "
      ]
     },
     "execution_count": 3,
     "metadata": {},
     "output_type": "execute_result"
    }
   ],
   "source": [
    "df.head()"
   ]
  },
  {
   "cell_type": "markdown",
   "metadata": {},
   "source": [
    "### Which artist has the most appearances on the top 50"
   ]
  },
  {
   "cell_type": "code",
   "execution_count": 4,
   "metadata": {},
   "outputs": [
    {
     "data": {
      "text/plain": [
       "'Ed Sheeran'"
      ]
     },
     "execution_count": 4,
     "metadata": {},
     "output_type": "execute_result"
    }
   ],
   "source": [
    "pop_artist = df['Artist.Name'].value_counts().keys()[0]\n",
    "pop_artist"
   ]
  },
  {
   "cell_type": "markdown",
   "metadata": {},
   "source": [
    "### Which genre has the most appearances on the top 50"
   ]
  },
  {
   "cell_type": "code",
   "execution_count": 5,
   "metadata": {},
   "outputs": [
    {
     "data": {
      "text/plain": [
       "'dance pop'"
      ]
     },
     "execution_count": 5,
     "metadata": {},
     "output_type": "execute_result"
    }
   ],
   "source": [
    "pop_genre = df['Genre'].value_counts().keys()[0]\n",
    "pop_genre"
   ]
  },
  {
   "cell_type": "markdown",
   "metadata": {},
   "source": [
    "### Which is the loudest track on the top 50 (Higher value = Louder song)"
   ]
  },
  {
   "cell_type": "code",
   "execution_count": 6,
   "metadata": {},
   "outputs": [
    {
     "data": {
      "text/plain": [
       "'Otro Trago - Remix'"
      ]
     },
     "execution_count": 6,
     "metadata": {},
     "output_type": "execute_result"
    }
   ],
   "source": [
    "loudest_track = df.iloc[df['Loudness..dB..'].idxmax()]['Track.Name']\n",
    "loudest_track"
   ]
  },
  {
   "cell_type": "markdown",
   "metadata": {},
   "source": [
    "### Which artist has the most number of Loud Songs"
   ]
  },
  {
   "cell_type": "code",
   "execution_count": 7,
   "metadata": {},
   "outputs": [],
   "source": [
    "avg_db = df['Loudness..dB..'].mean()\n",
    "# avg_db\n",
    "# df[df['Loudness..dB..'] > avg_db]"
   ]
  },
  {
   "cell_type": "markdown",
   "metadata": {},
   "source": [
    "### Which track is the longest"
   ]
  },
  {
   "cell_type": "code",
   "execution_count": 8,
   "metadata": {},
   "outputs": [
    {
     "data": {
      "text/plain": [
       "'No Me Conoce - Remix'"
      ]
     },
     "execution_count": 8,
     "metadata": {},
     "output_type": "execute_result"
    }
   ],
   "source": [
    "longest_track = df.iloc[df['Length.'].idxmax()]['Track.Name']\n",
    "longest_track"
   ]
  },
  {
   "cell_type": "markdown",
   "metadata": {},
   "source": [
    "### Which track is the most speechiness"
   ]
  },
  {
   "cell_type": "code",
   "execution_count": 9,
   "metadata": {},
   "outputs": [
    {
     "data": {
      "text/plain": [
       "'boyfriend (with Social House)'"
      ]
     },
     "execution_count": 9,
     "metadata": {},
     "output_type": "execute_result"
    }
   ],
   "source": [
    "speechiest_track = df.iloc[df['Speechiness.'].idxmax()]['Track.Name']\n",
    "speechiest_track"
   ]
  },
  {
   "cell_type": "code",
   "execution_count": 10,
   "metadata": {},
   "outputs": [
    {
     "data": {
      "text/plain": [
       "'Con Altura'"
      ]
     },
     "execution_count": 10,
     "metadata": {},
     "output_type": "execute_result"
    }
   ],
   "source": [
    "# Which track is the dullest on the top 50\n",
    "dullest_track = df.iloc[df['Liveness'].idxmin()]['Track.Name']\n",
    "dullest_track"
   ]
  },
  {
   "cell_type": "code",
   "execution_count": 11,
   "metadata": {},
   "outputs": [
    {
     "data": {
      "text/plain": [
       "'Takeaway'"
      ]
     },
     "execution_count": 11,
     "metadata": {},
     "output_type": "execute_result"
    }
   ],
   "source": [
    "# Which track is the most danceable\n",
    "dance_track = df.iloc[df['Danceability'].idxmin()]['Track.Name']\n",
    "dance_track"
   ]
  },
  {
   "cell_type": "code",
   "execution_count": 29,
   "metadata": {},
   "outputs": [
    {
     "data": {
      "text/html": [
       "<div>\n",
       "<style scoped>\n",
       "    .dataframe tbody tr th:only-of-type {\n",
       "        vertical-align: middle;\n",
       "    }\n",
       "\n",
       "    .dataframe tbody tr th {\n",
       "        vertical-align: top;\n",
       "    }\n",
       "\n",
       "    .dataframe thead th {\n",
       "        text-align: right;\n",
       "    }\n",
       "</style>\n",
       "<table border=\"1\" class=\"dataframe\">\n",
       "  <thead>\n",
       "    <tr style=\"text-align: right;\">\n",
       "      <th></th>\n",
       "      <th>Unnamed: 0</th>\n",
       "      <th>Track.Name</th>\n",
       "      <th>Artist.Name</th>\n",
       "      <th>Genre</th>\n",
       "      <th>Beats.Per.Minute</th>\n",
       "      <th>Energy</th>\n",
       "      <th>Danceability</th>\n",
       "      <th>Loudness..dB..</th>\n",
       "      <th>Liveness</th>\n",
       "      <th>Valence.</th>\n",
       "      <th>Length.</th>\n",
       "      <th>Acousticness..</th>\n",
       "      <th>Speechiness.</th>\n",
       "      <th>Popularity</th>\n",
       "    </tr>\n",
       "  </thead>\n",
       "  <tbody>\n",
       "    <tr>\n",
       "      <td>0</td>\n",
       "      <td>1</td>\n",
       "      <td>Señorita</td>\n",
       "      <td>Shawn Mendes</td>\n",
       "      <td>canadian pop</td>\n",
       "      <td>117</td>\n",
       "      <td>55</td>\n",
       "      <td>76</td>\n",
       "      <td>-6</td>\n",
       "      <td>8</td>\n",
       "      <td>75</td>\n",
       "      <td>191</td>\n",
       "      <td>4</td>\n",
       "      <td>3</td>\n",
       "      <td>79</td>\n",
       "    </tr>\n",
       "    <tr>\n",
       "      <td>1</td>\n",
       "      <td>2</td>\n",
       "      <td>China</td>\n",
       "      <td>Anuel AA</td>\n",
       "      <td>reggaeton flow</td>\n",
       "      <td>105</td>\n",
       "      <td>81</td>\n",
       "      <td>79</td>\n",
       "      <td>-4</td>\n",
       "      <td>8</td>\n",
       "      <td>61</td>\n",
       "      <td>302</td>\n",
       "      <td>8</td>\n",
       "      <td>9</td>\n",
       "      <td>92</td>\n",
       "    </tr>\n",
       "    <tr>\n",
       "      <td>2</td>\n",
       "      <td>3</td>\n",
       "      <td>boyfriend (with Social House)</td>\n",
       "      <td>Ariana Grande</td>\n",
       "      <td>dance pop</td>\n",
       "      <td>190</td>\n",
       "      <td>80</td>\n",
       "      <td>40</td>\n",
       "      <td>-4</td>\n",
       "      <td>16</td>\n",
       "      <td>70</td>\n",
       "      <td>186</td>\n",
       "      <td>12</td>\n",
       "      <td>46</td>\n",
       "      <td>85</td>\n",
       "    </tr>\n",
       "    <tr>\n",
       "      <td>3</td>\n",
       "      <td>4</td>\n",
       "      <td>Beautiful People (feat. Khalid)</td>\n",
       "      <td>Ed Sheeran</td>\n",
       "      <td>pop</td>\n",
       "      <td>93</td>\n",
       "      <td>65</td>\n",
       "      <td>64</td>\n",
       "      <td>-8</td>\n",
       "      <td>8</td>\n",
       "      <td>55</td>\n",
       "      <td>198</td>\n",
       "      <td>12</td>\n",
       "      <td>19</td>\n",
       "      <td>86</td>\n",
       "    </tr>\n",
       "    <tr>\n",
       "      <td>4</td>\n",
       "      <td>5</td>\n",
       "      <td>Goodbyes (Feat. Young Thug)</td>\n",
       "      <td>Post Malone</td>\n",
       "      <td>dfw rap</td>\n",
       "      <td>150</td>\n",
       "      <td>65</td>\n",
       "      <td>58</td>\n",
       "      <td>-4</td>\n",
       "      <td>11</td>\n",
       "      <td>18</td>\n",
       "      <td>175</td>\n",
       "      <td>45</td>\n",
       "      <td>7</td>\n",
       "      <td>94</td>\n",
       "    </tr>\n",
       "  </tbody>\n",
       "</table>\n",
       "</div>"
      ],
      "text/plain": [
       "   Unnamed: 0                       Track.Name    Artist.Name           Genre  \\\n",
       "0           1                         Señorita   Shawn Mendes    canadian pop   \n",
       "1           2                            China       Anuel AA  reggaeton flow   \n",
       "2           3    boyfriend (with Social House)  Ariana Grande       dance pop   \n",
       "3           4  Beautiful People (feat. Khalid)     Ed Sheeran             pop   \n",
       "4           5      Goodbyes (Feat. Young Thug)    Post Malone         dfw rap   \n",
       "\n",
       "   Beats.Per.Minute  Energy  Danceability  Loudness..dB..  Liveness  Valence.  \\\n",
       "0               117      55            76              -6         8        75   \n",
       "1               105      81            79              -4         8        61   \n",
       "2               190      80            40              -4        16        70   \n",
       "3                93      65            64              -8         8        55   \n",
       "4               150      65            58              -4        11        18   \n",
       "\n",
       "   Length.  Acousticness..  Speechiness.  Popularity  \n",
       "0      191               4             3          79  \n",
       "1      302               8             9          92  \n",
       "2      186              12            46          85  \n",
       "3      198              12            19          86  \n",
       "4      175              45             7          94  "
      ]
     },
     "execution_count": 29,
     "metadata": {},
     "output_type": "execute_result"
    }
   ],
   "source": [
    "df.head()"
   ]
  },
  {
   "cell_type": "markdown",
   "metadata": {},
   "source": [
    "## What's the relationship between"
   ]
  },
  {
   "cell_type": "markdown",
   "metadata": {},
   "source": [
    "### 1) The danceability and the speechiness"
   ]
  },
  {
   "cell_type": "code",
   "execution_count": 13,
   "metadata": {},
   "outputs": [
    {
     "data": {
      "text/plain": [
       "<seaborn.axisgrid.JointGrid at 0x23ea4c53348>"
      ]
     },
     "execution_count": 13,
     "metadata": {},
     "output_type": "execute_result"
    },
    {
     "data": {
      "image/png": "[encoded data removed]",
      "text/plain": [
       "<Figure size 432x432 with 3 Axes>"
      ]
     },
     "metadata": {
      "needs_background": "light"
     },
     "output_type": "display_data"
    }
   ],
   "source": [
    "sns.jointplot(x='Speechiness.',y='Danceability',data=df)"
   ]
  },
  {
   "cell_type": "markdown",
   "metadata": {},
   "source": [
    "### 2) The loudness and the popularity"
   ]
  },
  {
   "cell_type": "code",
   "execution_count": 15,
   "metadata": {},
   "outputs": [
    {
     "data": {
      "text/plain": [
       "<seaborn.axisgrid.JointGrid at 0x23ea5ff98c8>"
      ]
     },
     "execution_count": 15,
     "metadata": {},
     "output_type": "execute_result"
    },
    {
     "data": {
      "image/png": "[encoded data removed]",
      "text/plain": [
       "<Figure size 432x432 with 3 Axes>"
      ]
     },
     "metadata": {
      "needs_background": "light"
     },
     "output_type": "display_data"
    }
   ],
   "source": [
    "sns.jointplot(x='Loudness..dB..',y='Popularity',data=df)"
   ]
  },
  {
   "cell_type": "code",
   "execution_count": 26,
   "metadata": {},
   "outputs": [
    {
     "data": {
      "text/plain": [
       "[<matplotlib.lines.Line2D at 0x23ea6553648>]"
      ]
     },
     "execution_count": 26,
     "metadata": {},
     "output_type": "execute_result"
    },
    {
     "data": {
      "image/png": "[encoded data removed]",
      "text/plain": [
       "<Figure size 432x288 with 1 Axes>"
      ]
     },
     "metadata": {
      "needs_background": "light"
     },
     "output_type": "display_data"
    }
   ],
   "source": [
    "x_axis = df['Loudness..dB..'].sort_values()\n",
    "y_axis = df['Popularity'].sort_values()\n",
    "fig = plt.figure()\n",
    "axes = fig.add_axes([0.1,0.1,0.8,0.8])\n",
    "axes.set_xlabel('Loudness (DB)')\n",
    "axes.set_ylabel('Popularity')\n",
    "axes.plot(x_axis,y_axis)"
   ]
  },
  {
   "cell_type": "code",
   "execution_count": null,
   "metadata": {},
   "outputs": [],
   "source": []
  },
  {
   "cell_type": "markdown",
   "metadata": {},
   "source": [
    "### 3) Length and popularity"
   ]
  },
  {
   "cell_type": "code",
   "execution_count": 21,
   "metadata": {},
   "outputs": [
    {
     "data": {
      "text/plain": [
       "<seaborn.axisgrid.JointGrid at 0x23ea62e31c8>"
      ]
     },
     "execution_count": 21,
     "metadata": {},
     "output_type": "execute_result"
    },
    {
     "data": {
      "image/png": "[encoded data removed]",
      "text/plain": [
       "<Figure size 432x432 with 3 Axes>"
      ]
     },
     "metadata": {
      "needs_background": "light"
     },
     "output_type": "display_data"
    }
   ],
   "source": [
    "sns.jointplot(x='Length.',y='Popularity',data=df)"
   ]
  },
  {
   "cell_type": "code",
   "execution_count": 28,
   "metadata": {},
   "outputs": [
    {
     "data": {
      "text/plain": [
       "[<matplotlib.lines.Line2D at 0x23ea760f348>]"
      ]
     },
     "execution_count": 28,
     "metadata": {},
     "output_type": "execute_result"
    },
    {
     "data": {
      "image/png": "[encoded data removed]",
      "text/plain": [
       "<Figure size 432x288 with 1 Axes>"
      ]
     },
     "metadata": {
      "needs_background": "light"
     },
     "output_type": "display_data"
    }
   ],
   "source": [
    "x_axis = df['Length.'].sort_values()\n",
    "y_axis = df['Popularity'].sort_values()\n",
    "fig = plt.figure()\n",
    "axes = fig.add_axes([0.1,0.1,0.8,0.8])\n",
    "axes.set_xlabel('Length (seconds)')\n",
    "axes.set_ylabel('Popularity')\n",
    "axes.plot(x_axis,y_axis)"
   ]
  },
  {
   "cell_type": "markdown",
   "metadata": {},
   "source": [
    "### 5) Speechiness and popularity"
   ]
  },
  {
   "cell_type": "code",
   "execution_count": 30,
   "metadata": {},
   "outputs": [
    {
     "data": {
      "text/plain": [
       "<seaborn.axisgrid.JointGrid at 0x23ea7763f88>"
      ]
     },
     "execution_count": 30,
     "metadata": {},
     "output_type": "execute_result"
    },
    {
     "data": {
      "image/png": "[encoded data removed]",
      "text/plain": [
       "<Figure size 432x432 with 3 Axes>"
      ]
     },
     "metadata": {
      "needs_background": "light"
     },
     "output_type": "display_data"
    }
   ],
   "source": [
    "sns.jointplot(x='Speechiness.',y='Popularity',data=df)"
   ]
  },
  {
   "cell_type": "code",
   "execution_count": null,
   "metadata": {},
   "outputs": [],
   "source": []
  }
 ],
 "metadata": {
  "kernelspec": {
   "display_name": "Python 3",
   "language": "python",
   "name": "python3"
  },
  "language_info": {
   "codemirror_mode": {
    "name": "ipython",
    "version": 3
   },
   "file_extension": ".py",
   "mimetype": "text/x-python",
   "name": "python",
   "nbconvert_exporter": "python",
   "pygments_lexer": "ipython3",
   "version": "3.7.4"
  }
 },
 "nbformat": 4,
 "nbformat_minor": 2
}
